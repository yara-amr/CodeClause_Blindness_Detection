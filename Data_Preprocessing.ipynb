{
 "cells": [
  {
   "cell_type": "code",
   "execution_count": 1,
   "metadata": {
    "collapsed": true
   },
   "outputs": [],
   "source": [
    "import numpy as np # linear algebra\n",
    "import pandas as pd # data processing, CSV file I/O (e.g. pd.read_csv)\n",
    "\n",
    "# Input data files are available in the \"../input/\" directory.\n",
    "# For example, running this (by clicking run or pressing Shift+Enter) will list the files in the input directory\n",
    "import shutil\n",
    "import sys\n",
    "import os"
   ]
  },
  {
   "cell_type": "code",
   "execution_count": 3,
   "metadata": {},
   "outputs": [
    {
     "name": "stdout",
     "output_type": "stream",
     "text": [
      "(3662, 2)\n",
      "(1928, 1)\n"
     ]
    },
    {
     "data": {
      "text/html": [
       "<div>\n",
       "<style>\n",
       "    .dataframe thead tr:only-child th {\n",
       "        text-align: right;\n",
       "    }\n",
       "\n",
       "    .dataframe thead th {\n",
       "        text-align: left;\n",
       "    }\n",
       "\n",
       "    .dataframe tbody tr th {\n",
       "        vertical-align: top;\n",
       "    }\n",
       "</style>\n",
       "<table border=\"1\" class=\"dataframe\">\n",
       "  <thead>\n",
       "    <tr style=\"text-align: right;\">\n",
       "      <th></th>\n",
       "      <th>id_code</th>\n",
       "      <th>diagnosis</th>\n",
       "    </tr>\n",
       "  </thead>\n",
       "  <tbody>\n",
       "    <tr>\n",
       "      <th>0</th>\n",
       "      <td>000c1434d8d7</td>\n",
       "      <td>2</td>\n",
       "    </tr>\n",
       "    <tr>\n",
       "      <th>1</th>\n",
       "      <td>001639a390f0</td>\n",
       "      <td>4</td>\n",
       "    </tr>\n",
       "    <tr>\n",
       "      <th>2</th>\n",
       "      <td>0024cdab0c1e</td>\n",
       "      <td>1</td>\n",
       "    </tr>\n",
       "    <tr>\n",
       "      <th>3</th>\n",
       "      <td>002c21358ce6</td>\n",
       "      <td>0</td>\n",
       "    </tr>\n",
       "    <tr>\n",
       "      <th>4</th>\n",
       "      <td>005b95c28852</td>\n",
       "      <td>0</td>\n",
       "    </tr>\n",
       "  </tbody>\n",
       "</table>\n",
       "</div>"
      ],
      "text/plain": [
       "        id_code  diagnosis\n",
       "0  000c1434d8d7          2\n",
       "1  001639a390f0          4\n",
       "2  0024cdab0c1e          1\n",
       "3  002c21358ce6          0\n",
       "4  005b95c28852          0"
      ]
     },
     "execution_count": 3,
     "metadata": {},
     "output_type": "execute_result"
    }
   ],
   "source": [
    "train_df = pd.read_csv('train.csv')\n",
    "test_df = pd.read_csv('test.csv')\n",
    "print(train_df.shape)\n",
    "print(test_df.shape)\n",
    "train_df.head()"
   ]
  },
  {
   "cell_type": "code",
   "execution_count": 4,
   "metadata": {
    "collapsed": true
   },
   "outputs": [],
   "source": [
    "list_0=[]\n",
    "for a in train_df[train_df['diagnosis']==0]['id_code']:\n",
    "    list_0.append(a)\n",
    "list_1=[]\n",
    "for b in train_df[train_df['diagnosis']==1]['id_code']:\n",
    "    list_1.append(b)\n",
    "list_2=[]\n",
    "for c in train_df[train_df['diagnosis']==2]['id_code']:\n",
    "    list_2.append(c)\n",
    "list_3=[]\n",
    "for d in train_df[train_df['diagnosis']==3]['id_code']:\n",
    "    list_3.append(d)\n",
    "list_4=[]\n",
    "for e in train_df[train_df['diagnosis']==4]['id_code']:\n",
    "    list_4.append(e)"
   ]
  },
  {
   "cell_type": "code",
   "execution_count": 6,
   "metadata": {
    "collapsed": true
   },
   "outputs": [],
   "source": [
    "train_dir = \"train_image/\"\n",
    "    # Create subdirectory with `class_name`\n",
    "if not os.path.exists(\"train_split\" + \"4\"):\n",
    "        os.mkdir(\"train_split\" + \"4\")\n",
    "for i in list_4:\n",
    "    src_path = train_dir + i + \".png\"\n",
    "    dst_path = \"train_split\" + \"4\" + \"/\" + i + \".png\"\n",
    "    shutil.copy(src_path, dst_path)"
   ]
  },
  {
   "cell_type": "code",
   "execution_count": 7,
   "metadata": {
    "collapsed": true
   },
   "outputs": [],
   "source": [
    "train_dir = \"train_image/\"\n",
    "    # Create subdirectory with `class_name`\n",
    "if not os.path.exists(\"train_split\" + \"3\"):\n",
    "        os.mkdir(\"train_split\" + \"3\")\n",
    "for i in list_3:\n",
    "    src_path = train_dir + i + \".png\"\n",
    "    dst_path = \"train_split\" + \"3\" + \"/\" + i + \".png\"\n",
    "    shutil.copy(src_path, dst_path)"
   ]
  },
  {
   "cell_type": "code",
   "execution_count": 8,
   "metadata": {
    "collapsed": true
   },
   "outputs": [],
   "source": [
    "train_dir = \"train_image/\"\n",
    "    # Create subdirectory with `class_name`\n",
    "if not os.path.exists(\"train_split\" + \"2\"):\n",
    "        os.mkdir(\"train_split\" + \"2\")\n",
    "for i in list_2:\n",
    "    src_path = train_dir + i + \".png\"\n",
    "    dst_path = \"train_split\" + \"2\" + \"/\" + i + \".png\"\n",
    "    shutil.copy(src_path, dst_path)"
   ]
  },
  {
   "cell_type": "code",
   "execution_count": 9,
   "metadata": {
    "collapsed": true
   },
   "outputs": [],
   "source": [
    "train_dir = \"train_image/\"\n",
    "    # Create subdirectory with `class_name`\n",
    "if not os.path.exists(\"train_split\" + \"1\"):\n",
    "        os.mkdir(\"train_split\" + \"1\")\n",
    "for i in list_1:\n",
    "    src_path = train_dir + i + \".png\"\n",
    "    dst_path = \"train_split\" + \"1\" + \"/\" + i + \".png\"\n",
    "    shutil.copy(src_path, dst_path)"
   ]
  },
  {
   "cell_type": "code",
   "execution_count": 10,
   "metadata": {
    "collapsed": true
   },
   "outputs": [],
   "source": [
    "train_dir = \"train_image/\"\n",
    "    # Create subdirectory with `class_name`\n",
    "if not os.path.exists(\"train_split\" + \"0\"):\n",
    "        os.mkdir(\"train_split\" + \"0\")\n",
    "for i in list_0:\n",
    "    src_path = train_dir + i + \".png\"\n",
    "    dst_path = \"train_split\" + \"0\" + \"/\" + i + \".png\"\n",
    "    shutil.copy(src_path, dst_path)"
   ]
  },
  {
   "cell_type": "code",
   "execution_count": 14,
   "metadata": {
    "collapsed": true
   },
   "outputs": [],
   "source": [
    "import split_folders\n",
    "input='dataset'\n",
    "output='final_dataset'\n",
    "split_folders.ratio(input, output=output, seed=1337, ratio=(.8, .1, .1))"
   ]
  }
 ],
 "metadata": {
  "kernelspec": {
   "display_name": "Python 3.10.0 64-bit",
   "language": "python",
   "name": "python3"
  },
  "language_info": {
   "codemirror_mode": {
    "name": "ipython",
    "version": 3
   },
   "file_extension": ".py",
   "mimetype": "text/x-python",
   "name": "python",
   "nbconvert_exporter": "python",
   "pygments_lexer": "ipython3",
   "version": "3.10.0"
  },
  "vscode": {
   "interpreter": {
    "hash": "30fc4fbcb1ebee820245c1efc1c66fefb8417862dd349132c3a8e5f4716b7dfb"
   }
  }
 },
 "nbformat": 4,
 "nbformat_minor": 2
}
